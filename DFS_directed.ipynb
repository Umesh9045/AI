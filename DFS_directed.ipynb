{
  "nbformat": 4,
  "nbformat_minor": 0,
  "metadata": {
    "colab": {
      "provenance": [],
      "include_colab_link": true
    },
    "kernelspec": {
      "name": "python3",
      "display_name": "Python 3"
    },
    "language_info": {
      "name": "python"
    }
  },
  "cells": [
    {
      "cell_type": "markdown",
      "metadata": {
        "id": "view-in-github",
        "colab_type": "text"
      },
      "source": [
        "<a href=\"https://colab.research.google.com/github/Umesh9045/AI/blob/main/DFS_directed.ipynb\" target=\"_parent\"><img src=\"https://colab.research.google.com/assets/colab-badge.svg\" alt=\"Open In Colab\"/></a>"
      ]
    },
    {
      "cell_type": "code",
      "execution_count": 1,
      "metadata": {
        "colab": {
          "base_uri": "https://localhost:8080/"
        },
        "id": "F7jc-ZBsPNDq",
        "outputId": "913cbfe6-8d97-492f-aeff-5fa81c207e69"
      },
      "outputs": [
        {
          "output_type": "stream",
          "name": "stdout",
          "text": [
            "{'A': 'w', 'B': 'w', 'C': 'w', 'D': 'w', 'E': 'w', 'F': 'w'}\n",
            "{'A': None, 'B': None, 'C': None, 'D': None, 'E': None, 'F': None}\n",
            "{'A': [-1, -1], 'B': [-1, -1], 'C': [-1, -1], 'D': [-1, -1], 'E': [-1, -1], 'F': [-1, -1]}\n",
            "['A', 'B', 'D', 'E', 'F', 'C']\n",
            "{'A': 'C', 'B': 'E', 'C': None, 'D': None, 'E': 'F', 'F': None}\n",
            "{'A': [0, 11], 'B': [1, 8], 'C': [9, 10], 'D': [2, 3], 'E': [4, 7], 'F': [5, 6]}\n",
            "A  -> [0, 11]\n",
            "B  -> [1, 8]\n",
            "C  -> [9, 10]\n",
            "D  -> [2, 3]\n",
            "E  -> [4, 7]\n",
            "F  -> [5, 6]\n"
          ]
        }
      ],
      "source": [
        "\n",
        "adj_list = {\n",
        "    \"A\":[\"B\",\"C\"],\n",
        "          \"B\":[\"D\",\"E\"],\n",
        "          \"C\":[\"B\",\"F\"],\n",
        "          \"D\":[],\n",
        "          \"E\":[\"F\"],\n",
        "          \"F\":[],\n",
        "          }\n",
        "          \n",
        "          # Varisbles required for graph\n",
        "Color = {} # White, Grey , Black white = not visited, grey= when visited once, black= all adjacent vertex visited\n",
        "Parent = {}\n",
        "#we keep track when node is first visited and when it is last visited\n",
        "#start would be when node is grey and end would be when node is black\n",
        "trav_time={} # [start, end]\n",
        "\n",
        "# Also we will keep a list empty to store the DFS traversal path    \n",
        "dfs_traversal_output= []\n",
        "  \n",
        "      \n",
        "      # Now initialise\n",
        "for node in adj_list.keys():\n",
        "            Color[node]=\"w\"\n",
        "            Parent[node]= None\n",
        "            trav_time[node]=[-1,-1]\n",
        "print(Color) \n",
        "print(Parent)\n",
        "print(trav_time)\n",
        "\n",
        "# since we want to also want to keep the track of the time when each node is viited\n",
        "#we will create a global variable time and initialse it to\n",
        "time = 0\n",
        "#now we will write actual function for dfs\n",
        "def dfs_util(u) : # argument u is the start node from where we have to start the trversal\n",
        "    global time\n",
        "    # whenever we discover a node we will turn node to grey\n",
        "    Color[u] = \"G\"\n",
        "    # we will assign the time at which it s first explored,initially start time \n",
        "    # or the time when the color changes from white to grey\n",
        "    # now we are assigning the start time So start time =0\n",
        "    trav_time[u][0] = time\n",
        "\n",
        "    # add this node to the output list\n",
        "    dfs_traversal_output.append(u)\n",
        "    time +=1\n",
        "    # Now we wil add all adjacency vertex of u\n",
        "\n",
        "    for v in adj_list[u] : \n",
        "      # first check weather this vertex is visited or not visited by color\n",
        "             if Color[v] ==  \"w\" :\n",
        "               # w means not visited, then we will continue exploration\n",
        "                   Parent[u] = v\n",
        "              # start  recursive dfs algo for this u vertex \n",
        "                   dfs_util(v)\n",
        "# since u is now traverd change its color and make the time to 1\n",
        "    Color[u] = \"B\" \n",
        "    trav_time[u][1] = time\n",
        "  #increase time after changing color\n",
        "    time +=1\n",
        "\n",
        "    \n",
        "dfs_util(\"A\")\n",
        "print (dfs_traversal_output)\n",
        "print(Parent)\n",
        "print(trav_time)\n",
        "\n",
        "for node in adj_list.keys() :\n",
        "     print(node, \" ->\" , trav_time[node])"
      ]
    }
  ]
}